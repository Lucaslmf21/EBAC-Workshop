{
  "cells": [
    {
      "cell_type": "markdown",
      "metadata": {
        "id": "view-in-github",
        "colab_type": "text"
      },
      "source": [
        "<a href=\"https://colab.research.google.com/github/Lucaslmf21/EBAC-Workshop/blob/main/desafio_ebac_dados.ipynb\" target=\"_parent\"><img src=\"https://colab.research.google.com/assets/colab-badge.svg\" alt=\"Open In Colab\"/></a>"
      ]
    },
    {
      "cell_type": "markdown",
      "source": [
        ""
      ],
      "metadata": {
        "id": "dIrrOC0v2vEe"
      },
      "id": "dIrrOC0v2vEe"
    },
    {
      "cell_type": "markdown",
      "id": "faa08115",
      "metadata": {
        "id": "faa08115",
        "papermill": {
          "duration": 0.008188,
          "end_time": "2022-06-22T21:54:52.019678",
          "exception": false,
          "start_time": "2022-06-22T21:54:52.011490",
          "status": "completed"
        },
        "tags": []
      },
      "source": [
        "# **Fundamentos da Matemática para Análise de Dados**\n",
        "## **DESAFÍO**"
      ]
    },
    {
      "cell_type": "markdown",
      "id": "70fa7257",
      "metadata": {
        "id": "70fa7257",
        "papermill": {
          "duration": 0.006988,
          "end_time": "2022-06-22T21:54:52.033962",
          "exception": false,
          "start_time": "2022-06-22T21:54:52.026974",
          "status": "completed"
        },
        "tags": []
      },
      "source": [
        "#### Importando as bibliotecas necessárias"
      ]
    },
    {
      "cell_type": "code",
      "execution_count": 6,
      "id": "2f8d44d7",
      "metadata": {
        "execution": {
          "iopub.execute_input": "2022-06-22T21:54:52.050556Z",
          "iopub.status.busy": "2022-06-22T21:54:52.049974Z",
          "iopub.status.idle": "2022-06-22T21:54:52.062164Z",
          "shell.execute_reply": "2022-06-22T21:54:52.061576Z"
        },
        "id": "2f8d44d7",
        "papermill": {
          "duration": 0.023042,
          "end_time": "2022-06-22T21:54:52.064267",
          "exception": false,
          "start_time": "2022-06-22T21:54:52.041225",
          "status": "completed"
        },
        "tags": []
      },
      "outputs": [],
      "source": [
        "import pandas as pd\n",
        "import numpy as np\n",
        "import matplotlib.pyplot as plt\n",
        "import statistics as st"
      ]
    },
    {
      "cell_type": "markdown",
      "id": "4ff0f520",
      "metadata": {
        "id": "4ff0f520",
        "papermill": {
          "duration": 0.007234,
          "end_time": "2022-06-22T21:54:52.079088",
          "exception": false,
          "start_time": "2022-06-22T21:54:52.071854",
          "status": "completed"
        },
        "tags": []
      },
      "source": [
        "Importando os dados a serem utilizados (Dataframe = domicilios)"
      ]
    },
    {
      "cell_type": "code",
      "execution_count": 7,
      "id": "3b0bfac7",
      "metadata": {
        "execution": {
          "iopub.execute_input": "2022-06-22T21:54:52.095821Z",
          "iopub.status.busy": "2022-06-22T21:54:52.095471Z",
          "iopub.status.idle": "2022-06-22T21:54:52.759867Z",
          "shell.execute_reply": "2022-06-22T21:54:52.759007Z"
        },
        "id": "3b0bfac7",
        "outputId": "c054ffb9-7f4f-4d9c-9b84-c9c99426454d",
        "papermill": {
          "duration": 0.675599,
          "end_time": "2022-06-22T21:54:52.762024",
          "exception": false,
          "start_time": "2022-06-22T21:54:52.086425",
          "status": "completed"
        },
        "tags": [],
        "colab": {
          "base_uri": "https://localhost:8080/",
          "height": 426
        }
      },
      "outputs": [
        {
          "output_type": "execute_result",
          "data": {
            "text/plain": [
              "   Ano de referência Unidade da Federação  Número de controle  \\\n",
              "0               2015             Rondônia            11000058   \n",
              "1               2015             Rondônia            11000163   \n",
              "2               2015             Rondônia            11000210   \n",
              "3               2015             Rondônia            11000341   \n",
              "4               2015             Rondônia            11000422   \n",
              "\n",
              "   Número de série Tipo de entrevista  Total de moradores  \\\n",
              "0                8          Realizada                   4   \n",
              "1                1          Realizada                   3   \n",
              "2               19          Realizada                   2   \n",
              "3               15          Realizada                   5   \n",
              "4                6          Realizada                   3   \n",
              "\n",
              "   Total de moradores de 10 anos ou mais Tipo do domicílio  \\\n",
              "0                                      3              Casa   \n",
              "1                                      1              Casa   \n",
              "2                                      2              Casa   \n",
              "3                                      5              Casa   \n",
              "4                                      2              Casa   \n",
              "\n",
              "   Número de cômodos do domicílio  Número de cômodos servindo de dormitório  \\\n",
              "0                               5                                         2   \n",
              "1                               6                                         2   \n",
              "2                               4                                         2   \n",
              "3                               4                                         2   \n",
              "4                               5                                         2   \n",
              "\n",
              "  Condição de ocupação do domicílio  Aluguel mensal pago no mês de referência  \\\n",
              "0                           Alugado                                       650   \n",
              "1                 Próprio – já pago                                         0   \n",
              "2                 Próprio – já pago                                         0   \n",
              "3                 Próprio – já pago                                         0   \n",
              "4                 Próprio – já pago                                         0   \n",
              "\n",
              "   Prestação mensal paga no mês de referência  \\\n",
              "0                                           0   \n",
              "1                                           0   \n",
              "2                                           0   \n",
              "3                                           0   \n",
              "4                                           0   \n",
              "\n",
              "  Tem acesso à Internet no próprio domicilio  \\\n",
              "0                                          2   \n",
              "1                                          4   \n",
              "2                                          4   \n",
              "3                                          4   \n",
              "4                                          4   \n",
              "\n",
              "  Tem carro ou motocicleta de uso pessoal  Rendimento mensal domiciliar  \\\n",
              "0                                       4                          3350   \n",
              "1                                       4                          1734   \n",
              "2                                       4                          1576   \n",
              "3                                       2                          3427   \n",
              "4                                       4                           900   \n",
              "\n",
              "   Número de componentes do domícilio  Rendimento mensal domiciliar per capita  \n",
              "0                                   4                                      837  \n",
              "1                                   3                                      578  \n",
              "2                                   2                                      788  \n",
              "3                                   5                                      685  \n",
              "4                                   3                                      300  "
            ],
            "text/html": [
              "\n",
              "  <div id=\"df-11e28ac1-e30e-4795-9e23-287e1c7d8a79\">\n",
              "    <div class=\"colab-df-container\">\n",
              "      <div>\n",
              "<style scoped>\n",
              "    .dataframe tbody tr th:only-of-type {\n",
              "        vertical-align: middle;\n",
              "    }\n",
              "\n",
              "    .dataframe tbody tr th {\n",
              "        vertical-align: top;\n",
              "    }\n",
              "\n",
              "    .dataframe thead th {\n",
              "        text-align: right;\n",
              "    }\n",
              "</style>\n",
              "<table border=\"1\" class=\"dataframe\">\n",
              "  <thead>\n",
              "    <tr style=\"text-align: right;\">\n",
              "      <th></th>\n",
              "      <th>Ano de referência</th>\n",
              "      <th>Unidade da Federação</th>\n",
              "      <th>Número de controle</th>\n",
              "      <th>Número de série</th>\n",
              "      <th>Tipo de entrevista</th>\n",
              "      <th>Total de moradores</th>\n",
              "      <th>Total de moradores de 10 anos ou mais</th>\n",
              "      <th>Tipo do domicílio</th>\n",
              "      <th>Número de cômodos do domicílio</th>\n",
              "      <th>Número de cômodos servindo de dormitório</th>\n",
              "      <th>Condição de ocupação do domicílio</th>\n",
              "      <th>Aluguel mensal pago no mês de referência</th>\n",
              "      <th>Prestação mensal paga no mês de referência</th>\n",
              "      <th>Tem acesso à Internet no próprio domicilio</th>\n",
              "      <th>Tem carro ou motocicleta de uso pessoal</th>\n",
              "      <th>Rendimento mensal domiciliar</th>\n",
              "      <th>Número de componentes do domícilio</th>\n",
              "      <th>Rendimento mensal domiciliar per capita</th>\n",
              "    </tr>\n",
              "  </thead>\n",
              "  <tbody>\n",
              "    <tr>\n",
              "      <th>0</th>\n",
              "      <td>2015</td>\n",
              "      <td>Rondônia</td>\n",
              "      <td>11000058</td>\n",
              "      <td>8</td>\n",
              "      <td>Realizada</td>\n",
              "      <td>4</td>\n",
              "      <td>3</td>\n",
              "      <td>Casa</td>\n",
              "      <td>5</td>\n",
              "      <td>2</td>\n",
              "      <td>Alugado</td>\n",
              "      <td>650</td>\n",
              "      <td>0</td>\n",
              "      <td>2</td>\n",
              "      <td>4</td>\n",
              "      <td>3350</td>\n",
              "      <td>4</td>\n",
              "      <td>837</td>\n",
              "    </tr>\n",
              "    <tr>\n",
              "      <th>1</th>\n",
              "      <td>2015</td>\n",
              "      <td>Rondônia</td>\n",
              "      <td>11000163</td>\n",
              "      <td>1</td>\n",
              "      <td>Realizada</td>\n",
              "      <td>3</td>\n",
              "      <td>1</td>\n",
              "      <td>Casa</td>\n",
              "      <td>6</td>\n",
              "      <td>2</td>\n",
              "      <td>Próprio – já pago</td>\n",
              "      <td>0</td>\n",
              "      <td>0</td>\n",
              "      <td>4</td>\n",
              "      <td>4</td>\n",
              "      <td>1734</td>\n",
              "      <td>3</td>\n",
              "      <td>578</td>\n",
              "    </tr>\n",
              "    <tr>\n",
              "      <th>2</th>\n",
              "      <td>2015</td>\n",
              "      <td>Rondônia</td>\n",
              "      <td>11000210</td>\n",
              "      <td>19</td>\n",
              "      <td>Realizada</td>\n",
              "      <td>2</td>\n",
              "      <td>2</td>\n",
              "      <td>Casa</td>\n",
              "      <td>4</td>\n",
              "      <td>2</td>\n",
              "      <td>Próprio – já pago</td>\n",
              "      <td>0</td>\n",
              "      <td>0</td>\n",
              "      <td>4</td>\n",
              "      <td>4</td>\n",
              "      <td>1576</td>\n",
              "      <td>2</td>\n",
              "      <td>788</td>\n",
              "    </tr>\n",
              "    <tr>\n",
              "      <th>3</th>\n",
              "      <td>2015</td>\n",
              "      <td>Rondônia</td>\n",
              "      <td>11000341</td>\n",
              "      <td>15</td>\n",
              "      <td>Realizada</td>\n",
              "      <td>5</td>\n",
              "      <td>5</td>\n",
              "      <td>Casa</td>\n",
              "      <td>4</td>\n",
              "      <td>2</td>\n",
              "      <td>Próprio – já pago</td>\n",
              "      <td>0</td>\n",
              "      <td>0</td>\n",
              "      <td>4</td>\n",
              "      <td>2</td>\n",
              "      <td>3427</td>\n",
              "      <td>5</td>\n",
              "      <td>685</td>\n",
              "    </tr>\n",
              "    <tr>\n",
              "      <th>4</th>\n",
              "      <td>2015</td>\n",
              "      <td>Rondônia</td>\n",
              "      <td>11000422</td>\n",
              "      <td>6</td>\n",
              "      <td>Realizada</td>\n",
              "      <td>3</td>\n",
              "      <td>2</td>\n",
              "      <td>Casa</td>\n",
              "      <td>5</td>\n",
              "      <td>2</td>\n",
              "      <td>Próprio – já pago</td>\n",
              "      <td>0</td>\n",
              "      <td>0</td>\n",
              "      <td>4</td>\n",
              "      <td>4</td>\n",
              "      <td>900</td>\n",
              "      <td>3</td>\n",
              "      <td>300</td>\n",
              "    </tr>\n",
              "  </tbody>\n",
              "</table>\n",
              "</div>\n",
              "      <button class=\"colab-df-convert\" onclick=\"convertToInteractive('df-11e28ac1-e30e-4795-9e23-287e1c7d8a79')\"\n",
              "              title=\"Convert this dataframe to an interactive table.\"\n",
              "              style=\"display:none;\">\n",
              "        \n",
              "  <svg xmlns=\"http://www.w3.org/2000/svg\" height=\"24px\"viewBox=\"0 0 24 24\"\n",
              "       width=\"24px\">\n",
              "    <path d=\"M0 0h24v24H0V0z\" fill=\"none\"/>\n",
              "    <path d=\"M18.56 5.44l.94 2.06.94-2.06 2.06-.94-2.06-.94-.94-2.06-.94 2.06-2.06.94zm-11 1L8.5 8.5l.94-2.06 2.06-.94-2.06-.94L8.5 2.5l-.94 2.06-2.06.94zm10 10l.94 2.06.94-2.06 2.06-.94-2.06-.94-.94-2.06-.94 2.06-2.06.94z\"/><path d=\"M17.41 7.96l-1.37-1.37c-.4-.4-.92-.59-1.43-.59-.52 0-1.04.2-1.43.59L10.3 9.45l-7.72 7.72c-.78.78-.78 2.05 0 2.83L4 21.41c.39.39.9.59 1.41.59.51 0 1.02-.2 1.41-.59l7.78-7.78 2.81-2.81c.8-.78.8-2.07 0-2.86zM5.41 20L4 18.59l7.72-7.72 1.47 1.35L5.41 20z\"/>\n",
              "  </svg>\n",
              "      </button>\n",
              "      \n",
              "  <style>\n",
              "    .colab-df-container {\n",
              "      display:flex;\n",
              "      flex-wrap:wrap;\n",
              "      gap: 12px;\n",
              "    }\n",
              "\n",
              "    .colab-df-convert {\n",
              "      background-color: #E8F0FE;\n",
              "      border: none;\n",
              "      border-radius: 50%;\n",
              "      cursor: pointer;\n",
              "      display: none;\n",
              "      fill: #1967D2;\n",
              "      height: 32px;\n",
              "      padding: 0 0 0 0;\n",
              "      width: 32px;\n",
              "    }\n",
              "\n",
              "    .colab-df-convert:hover {\n",
              "      background-color: #E2EBFA;\n",
              "      box-shadow: 0px 1px 2px rgba(60, 64, 67, 0.3), 0px 1px 3px 1px rgba(60, 64, 67, 0.15);\n",
              "      fill: #174EA6;\n",
              "    }\n",
              "\n",
              "    [theme=dark] .colab-df-convert {\n",
              "      background-color: #3B4455;\n",
              "      fill: #D2E3FC;\n",
              "    }\n",
              "\n",
              "    [theme=dark] .colab-df-convert:hover {\n",
              "      background-color: #434B5C;\n",
              "      box-shadow: 0px 1px 3px 1px rgba(0, 0, 0, 0.15);\n",
              "      filter: drop-shadow(0px 1px 2px rgba(0, 0, 0, 0.3));\n",
              "      fill: #FFFFFF;\n",
              "    }\n",
              "  </style>\n",
              "\n",
              "      <script>\n",
              "        const buttonEl =\n",
              "          document.querySelector('#df-11e28ac1-e30e-4795-9e23-287e1c7d8a79 button.colab-df-convert');\n",
              "        buttonEl.style.display =\n",
              "          google.colab.kernel.accessAllowed ? 'block' : 'none';\n",
              "\n",
              "        async function convertToInteractive(key) {\n",
              "          const element = document.querySelector('#df-11e28ac1-e30e-4795-9e23-287e1c7d8a79');\n",
              "          const dataTable =\n",
              "            await google.colab.kernel.invokeFunction('convertToInteractive',\n",
              "                                                     [key], {});\n",
              "          if (!dataTable) return;\n",
              "\n",
              "          const docLinkHtml = 'Like what you see? Visit the ' +\n",
              "            '<a target=\"_blank\" href=https://colab.research.google.com/notebooks/data_table.ipynb>data table notebook</a>'\n",
              "            + ' to learn more about interactive tables.';\n",
              "          element.innerHTML = '';\n",
              "          dataTable['output_type'] = 'display_data';\n",
              "          await google.colab.output.renderOutput(dataTable, element);\n",
              "          const docLink = document.createElement('div');\n",
              "          docLink.innerHTML = docLinkHtml;\n",
              "          element.appendChild(docLink);\n",
              "        }\n",
              "      </script>\n",
              "    </div>\n",
              "  </div>\n",
              "  "
            ]
          },
          "metadata": {},
          "execution_count": 7
        }
      ],
      "source": [
        "!wget -q \"https://raw.githubusercontent.com/rafands/ebac-course-content/main/dados_IBGE_domicilios_2015.csv\" -O dados_IBGE_domicilios_2015.csv \n",
        "\n",
        "domicilios = pd.read_csv('./dados_IBGE_domicilios_2015.csv', sep=';')\n",
        "\n",
        "domicilios.dropna(inplace=True)\n",
        "\n",
        "domicilios.head()"
      ]
    },
    {
      "cell_type": "markdown",
      "id": "5bcdec02",
      "metadata": {
        "id": "5bcdec02",
        "papermill": {
          "duration": 0.007809,
          "end_time": "2022-06-22T21:54:52.778054",
          "exception": false,
          "start_time": "2022-06-22T21:54:52.770245",
          "status": "completed"
        },
        "tags": []
      },
      "source": [
        "1) Mostre as propriedades deste dataframe:\n",
        "- Lista de colunas\n",
        "- Quantidade de linhas e colunas (shape)\n",
        "- Tipo de dados de cada coluna\n",
        "\n",
        "(não se esqueça de imprimir, print(), cada uma dessas informações)"
      ]
    },
    {
      "cell_type": "code",
      "execution_count": 8,
      "id": "1398e44b",
      "metadata": {
        "execution": {
          "iopub.execute_input": "2022-06-22T21:54:52.797168Z",
          "iopub.status.busy": "2022-06-22T21:54:52.796662Z",
          "iopub.status.idle": "2022-06-22T21:54:52.800459Z",
          "shell.execute_reply": "2022-06-22T21:54:52.799910Z"
        },
        "id": "1398e44b",
        "papermill": {
          "duration": 0.01612,
          "end_time": "2022-06-22T21:54:52.802427",
          "exception": false,
          "start_time": "2022-06-22T21:54:52.786307",
          "status": "completed"
        },
        "tags": [],
        "colab": {
          "base_uri": "https://localhost:8080/"
        },
        "outputId": "8a8e3b15-431c-4bf2-9d72-a604af80b28e"
      },
      "outputs": [
        {
          "output_type": "stream",
          "name": "stdout",
          "text": [
            "--------------------\n",
            "colunas: ['Ano de referência', 'Unidade da Federação', 'Número de controle', 'Número de série', 'Tipo de entrevista', 'Total de moradores', 'Total de moradores de 10 anos ou mais', 'Tipo do domicílio', 'Número de cômodos do domicílio', 'Número de cômodos servindo de dormitório', 'Condição de ocupação do domicílio', 'Aluguel mensal pago no mês de referência', 'Prestação mensal paga no mês de referência', 'Tem acesso à Internet no próprio domicilio', 'Tem carro ou motocicleta de uso pessoal', 'Rendimento mensal domiciliar', 'Número de componentes do domícilio', 'Rendimento mensal domiciliar per capita']\n",
            "--------------------\n",
            "quantidade de elementos: 210780\n",
            "--------------------\n",
            "tipos dos dados:\n",
            "Ano de referência                              int64\n",
            "Unidade da Federação                          object\n",
            "Número de controle                             int64\n",
            "Número de série                                int64\n",
            "Tipo de entrevista                            object\n",
            "Total de moradores                             int64\n",
            "Total de moradores de 10 anos ou mais          int64\n",
            "Tipo do domicílio                             object\n",
            "Número de cômodos do domicílio                 int64\n",
            "Número de cômodos servindo de dormitório       int64\n",
            "Condição de ocupação do domicílio             object\n",
            "Aluguel mensal pago no mês de referência       int64\n",
            "Prestação mensal paga no mês de referência     int64\n",
            "Tem acesso à Internet no próprio domicilio    object\n",
            "Tem carro ou motocicleta de uso pessoal       object\n",
            "Rendimento mensal domiciliar                   int64\n",
            "Número de componentes do domícilio             int64\n",
            "Rendimento mensal domiciliar per capita        int64\n",
            "dtype: object\n"
          ]
        }
      ],
      "source": [
        "# Resposta 1:\n",
        "print('--------------------')\n",
        "print('colunas:',list(domicilios.columns))\n",
        "print('--------------------')\n",
        "print('quantidade de elementos:',domicilios.size)\n",
        "print('--------------------')\n",
        "print('tipos dos dados:')\n",
        "print(domicilios.dtypes)"
      ]
    },
    {
      "cell_type": "markdown",
      "id": "3394082f",
      "metadata": {
        "id": "3394082f",
        "papermill": {
          "duration": 0.007825,
          "end_time": "2022-06-22T21:54:52.818524",
          "exception": false,
          "start_time": "2022-06-22T21:54:52.810699",
          "status": "completed"
        },
        "tags": []
      },
      "source": [
        "2) Altere os nomes das colunas do dataframe a seguir:\n",
        "\n",
        "- 'Ano de referência' por 'ano_ref'\n",
        "- 'Unidade da Federação' por 'uf'\n",
        "- 'Número de controle' por 'num_cont'\n",
        "- 'Número de série' por 'num_ser'\n",
        "- 'Tipo de entrevista' por 'tipo_ent'\n",
        "- 'Total de moradores' por 'num_moradores'\n",
        "- 'Total de moradores de 10 anos ou mais' por 'num_moradores_maiores_10anos'\n",
        "- 'Tipo do domicílio' por 'tipo_domicilio'\n",
        "- 'Número de cômodos do domicílio' por 'num_comodos'\n",
        "- 'Número de cômodos servindo de dormitório' por 'num_dormitorios'\n",
        "- 'Condição de ocupação do domicílio' por 'condicao_domicilio'\n",
        "- 'Aluguel mensal pago no mês de referência' por 'vlr_aluguel_mensal'\n",
        "- 'Prestação mensal paga no mês de referência' por 'prestacao_mensal'\n",
        "- 'Tem acesso à Internet no próprio domicilio' por 'tem_acesso_internet'\n",
        "- 'Tem carro ou motocicleta de uso pessoal' por 'tem_veiculo'\n",
        "- 'Rendimento mensal domiciliar' por 'renda_mensal_domicilio'\n",
        "- 'Número de componentes do domícilio' por 'num_componentes'\n",
        "- 'Rendimento mensal domiciliar per capita' por 'renda_mensal_percapita'"
      ]
    },
    {
      "cell_type": "code",
      "execution_count": 9,
      "id": "fc91a708",
      "metadata": {
        "execution": {
          "iopub.execute_input": "2022-06-22T21:54:52.836375Z",
          "iopub.status.busy": "2022-06-22T21:54:52.835912Z",
          "iopub.status.idle": "2022-06-22T21:54:52.839270Z",
          "shell.execute_reply": "2022-06-22T21:54:52.838673Z"
        },
        "id": "fc91a708",
        "papermill": {
          "duration": 0.01461,
          "end_time": "2022-06-22T21:54:52.841252",
          "exception": false,
          "start_time": "2022-06-22T21:54:52.826642",
          "status": "completed"
        },
        "tags": [],
        "outputId": "ad42b70b-072d-4011-cf34-75fdc176a5d4",
        "colab": {
          "base_uri": "https://localhost:8080/"
        }
      },
      "outputs": [
        {
          "output_type": "execute_result",
          "data": {
            "text/plain": [
              "ano_ref                          int64\n",
              "uf                              object\n",
              "num_cont                         int64\n",
              "num_ser                          int64\n",
              "tipo_ent                        object\n",
              "num_moradores                    int64\n",
              "num_moradores_maiores_10anos     int64\n",
              "tipo_domicilio                  object\n",
              "num_comodos                      int64\n",
              "num_dormitorios                  int64\n",
              "condicao_domicilio              object\n",
              "vlr_aluguel_mensal               int64\n",
              "prestacao_mensal                 int64\n",
              "tem_acesso_internet             object\n",
              "tem_veiculo                     object\n",
              "renda_mensal_domicilio           int64\n",
              "num_componentes                  int64\n",
              "renda_mensal_percapita           int64\n",
              "dtype: object"
            ]
          },
          "metadata": {},
          "execution_count": 9
        }
      ],
      "source": [
        "# Resposta 2:\n",
        "domicilios.rename(columns={\n",
        "    'Ano de referência':'ano_ref',\n",
        "    'Unidade da Federação':'uf',\n",
        "    'Número de controle':'num_cont',\n",
        "    'Número de série':'num_ser',\n",
        "    'Tipo de entrevista':'tipo_ent',\n",
        "    'Total de moradores':'num_moradores',\n",
        "    'Total de moradores de 10 anos ou mais':'num_moradores_maiores_10anos',\n",
        "    'Tipo do domicílio':'tipo_domicilio',\n",
        "    'Número de cômodos do domicílio':'num_comodos',\n",
        "    'Número de cômodos servindo de dormitório':'num_dormitorios',\n",
        "    'Condição de ocupação do domicílio':'condicao_domicilio',\n",
        "    'Aluguel mensal pago no mês de referência':'vlr_aluguel_mensal',\n",
        "    'Prestação mensal paga no mês de referência':'prestacao_mensal',\n",
        "    'Tem acesso à Internet no próprio domicilio':'tem_acesso_internet',\n",
        "    'Tem carro ou motocicleta de uso pessoal':'tem_veiculo',\n",
        "    'Rendimento mensal domiciliar':'renda_mensal_domicilio',\n",
        "    'Número de componentes do domícilio':'num_componentes',\n",
        "    'Rendimento mensal domiciliar per capita':'renda_mensal_percapita'\n",
        "}, inplace=True)\n",
        "\n",
        "domicilios.dtypes"
      ]
    },
    {
      "cell_type": "markdown",
      "id": "f7c3a2bd",
      "metadata": {
        "id": "f7c3a2bd",
        "papermill": {
          "duration": 0.00813,
          "end_time": "2022-06-22T21:54:52.857842",
          "exception": false,
          "start_time": "2022-06-22T21:54:52.849712",
          "status": "completed"
        },
        "tags": []
      },
      "source": [
        "3) Crie um dataframe de nome df mantendo apenas as colunas:\n",
        "\n",
        "- 'ano_ref'\n",
        "- 'uf'\n",
        "- 'num_moradores'\n",
        "- 'num_moradores_maiores_10anos'\n",
        "- 'tipo_domicilio'\n",
        "- 'num_comodos'\n",
        "- 'num_dormitorios'\n",
        "- 'condicao_domicilio'\n",
        "- 'vlr_aluguel_mensal'\n",
        "- 'prestacao_mensal'\n",
        "- 'renda_mensal_domicilio'\n"
      ]
    },
    {
      "cell_type": "code",
      "execution_count": 10,
      "id": "253452af",
      "metadata": {
        "execution": {
          "iopub.execute_input": "2022-06-22T21:54:52.875818Z",
          "iopub.status.busy": "2022-06-22T21:54:52.875360Z",
          "iopub.status.idle": "2022-06-22T21:54:52.878772Z",
          "shell.execute_reply": "2022-06-22T21:54:52.878095Z"
        },
        "id": "253452af",
        "papermill": {
          "duration": 0.015113,
          "end_time": "2022-06-22T21:54:52.880954",
          "exception": false,
          "start_time": "2022-06-22T21:54:52.865841",
          "status": "completed"
        },
        "tags": [],
        "colab": {
          "base_uri": "https://localhost:8080/",
          "height": 270
        },
        "outputId": "09e0df01-39e4-4d58-ac64-ccd042bade96"
      },
      "outputs": [
        {
          "output_type": "execute_result",
          "data": {
            "text/plain": [
              "   ano_ref        uf  num_moradores  num_moradores_maiores_10anos  \\\n",
              "0     2015  Rondônia              4                             3   \n",
              "1     2015  Rondônia              3                             1   \n",
              "2     2015  Rondônia              2                             2   \n",
              "3     2015  Rondônia              5                             5   \n",
              "4     2015  Rondônia              3                             2   \n",
              "\n",
              "  tipo_domicilio  num_comodos  num_dormitorios condicao_domicilio  \\\n",
              "0           Casa            5                2            Alugado   \n",
              "1           Casa            6                2  Próprio – já pago   \n",
              "2           Casa            4                2  Próprio – já pago   \n",
              "3           Casa            4                2  Próprio – já pago   \n",
              "4           Casa            5                2  Próprio – já pago   \n",
              "\n",
              "   vlr_aluguel_mensal  prestacao_mensal  renda_mensal_domicilio  \n",
              "0                 650                 0                    3350  \n",
              "1                   0                 0                    1734  \n",
              "2                   0                 0                    1576  \n",
              "3                   0                 0                    3427  \n",
              "4                   0                 0                     900  "
            ],
            "text/html": [
              "\n",
              "  <div id=\"df-358cd825-44e7-479e-8aa6-b186e661faa7\">\n",
              "    <div class=\"colab-df-container\">\n",
              "      <div>\n",
              "<style scoped>\n",
              "    .dataframe tbody tr th:only-of-type {\n",
              "        vertical-align: middle;\n",
              "    }\n",
              "\n",
              "    .dataframe tbody tr th {\n",
              "        vertical-align: top;\n",
              "    }\n",
              "\n",
              "    .dataframe thead th {\n",
              "        text-align: right;\n",
              "    }\n",
              "</style>\n",
              "<table border=\"1\" class=\"dataframe\">\n",
              "  <thead>\n",
              "    <tr style=\"text-align: right;\">\n",
              "      <th></th>\n",
              "      <th>ano_ref</th>\n",
              "      <th>uf</th>\n",
              "      <th>num_moradores</th>\n",
              "      <th>num_moradores_maiores_10anos</th>\n",
              "      <th>tipo_domicilio</th>\n",
              "      <th>num_comodos</th>\n",
              "      <th>num_dormitorios</th>\n",
              "      <th>condicao_domicilio</th>\n",
              "      <th>vlr_aluguel_mensal</th>\n",
              "      <th>prestacao_mensal</th>\n",
              "      <th>renda_mensal_domicilio</th>\n",
              "    </tr>\n",
              "  </thead>\n",
              "  <tbody>\n",
              "    <tr>\n",
              "      <th>0</th>\n",
              "      <td>2015</td>\n",
              "      <td>Rondônia</td>\n",
              "      <td>4</td>\n",
              "      <td>3</td>\n",
              "      <td>Casa</td>\n",
              "      <td>5</td>\n",
              "      <td>2</td>\n",
              "      <td>Alugado</td>\n",
              "      <td>650</td>\n",
              "      <td>0</td>\n",
              "      <td>3350</td>\n",
              "    </tr>\n",
              "    <tr>\n",
              "      <th>1</th>\n",
              "      <td>2015</td>\n",
              "      <td>Rondônia</td>\n",
              "      <td>3</td>\n",
              "      <td>1</td>\n",
              "      <td>Casa</td>\n",
              "      <td>6</td>\n",
              "      <td>2</td>\n",
              "      <td>Próprio – já pago</td>\n",
              "      <td>0</td>\n",
              "      <td>0</td>\n",
              "      <td>1734</td>\n",
              "    </tr>\n",
              "    <tr>\n",
              "      <th>2</th>\n",
              "      <td>2015</td>\n",
              "      <td>Rondônia</td>\n",
              "      <td>2</td>\n",
              "      <td>2</td>\n",
              "      <td>Casa</td>\n",
              "      <td>4</td>\n",
              "      <td>2</td>\n",
              "      <td>Próprio – já pago</td>\n",
              "      <td>0</td>\n",
              "      <td>0</td>\n",
              "      <td>1576</td>\n",
              "    </tr>\n",
              "    <tr>\n",
              "      <th>3</th>\n",
              "      <td>2015</td>\n",
              "      <td>Rondônia</td>\n",
              "      <td>5</td>\n",
              "      <td>5</td>\n",
              "      <td>Casa</td>\n",
              "      <td>4</td>\n",
              "      <td>2</td>\n",
              "      <td>Próprio – já pago</td>\n",
              "      <td>0</td>\n",
              "      <td>0</td>\n",
              "      <td>3427</td>\n",
              "    </tr>\n",
              "    <tr>\n",
              "      <th>4</th>\n",
              "      <td>2015</td>\n",
              "      <td>Rondônia</td>\n",
              "      <td>3</td>\n",
              "      <td>2</td>\n",
              "      <td>Casa</td>\n",
              "      <td>5</td>\n",
              "      <td>2</td>\n",
              "      <td>Próprio – já pago</td>\n",
              "      <td>0</td>\n",
              "      <td>0</td>\n",
              "      <td>900</td>\n",
              "    </tr>\n",
              "  </tbody>\n",
              "</table>\n",
              "</div>\n",
              "      <button class=\"colab-df-convert\" onclick=\"convertToInteractive('df-358cd825-44e7-479e-8aa6-b186e661faa7')\"\n",
              "              title=\"Convert this dataframe to an interactive table.\"\n",
              "              style=\"display:none;\">\n",
              "        \n",
              "  <svg xmlns=\"http://www.w3.org/2000/svg\" height=\"24px\"viewBox=\"0 0 24 24\"\n",
              "       width=\"24px\">\n",
              "    <path d=\"M0 0h24v24H0V0z\" fill=\"none\"/>\n",
              "    <path d=\"M18.56 5.44l.94 2.06.94-2.06 2.06-.94-2.06-.94-.94-2.06-.94 2.06-2.06.94zm-11 1L8.5 8.5l.94-2.06 2.06-.94-2.06-.94L8.5 2.5l-.94 2.06-2.06.94zm10 10l.94 2.06.94-2.06 2.06-.94-2.06-.94-.94-2.06-.94 2.06-2.06.94z\"/><path d=\"M17.41 7.96l-1.37-1.37c-.4-.4-.92-.59-1.43-.59-.52 0-1.04.2-1.43.59L10.3 9.45l-7.72 7.72c-.78.78-.78 2.05 0 2.83L4 21.41c.39.39.9.59 1.41.59.51 0 1.02-.2 1.41-.59l7.78-7.78 2.81-2.81c.8-.78.8-2.07 0-2.86zM5.41 20L4 18.59l7.72-7.72 1.47 1.35L5.41 20z\"/>\n",
              "  </svg>\n",
              "      </button>\n",
              "      \n",
              "  <style>\n",
              "    .colab-df-container {\n",
              "      display:flex;\n",
              "      flex-wrap:wrap;\n",
              "      gap: 12px;\n",
              "    }\n",
              "\n",
              "    .colab-df-convert {\n",
              "      background-color: #E8F0FE;\n",
              "      border: none;\n",
              "      border-radius: 50%;\n",
              "      cursor: pointer;\n",
              "      display: none;\n",
              "      fill: #1967D2;\n",
              "      height: 32px;\n",
              "      padding: 0 0 0 0;\n",
              "      width: 32px;\n",
              "    }\n",
              "\n",
              "    .colab-df-convert:hover {\n",
              "      background-color: #E2EBFA;\n",
              "      box-shadow: 0px 1px 2px rgba(60, 64, 67, 0.3), 0px 1px 3px 1px rgba(60, 64, 67, 0.15);\n",
              "      fill: #174EA6;\n",
              "    }\n",
              "\n",
              "    [theme=dark] .colab-df-convert {\n",
              "      background-color: #3B4455;\n",
              "      fill: #D2E3FC;\n",
              "    }\n",
              "\n",
              "    [theme=dark] .colab-df-convert:hover {\n",
              "      background-color: #434B5C;\n",
              "      box-shadow: 0px 1px 3px 1px rgba(0, 0, 0, 0.15);\n",
              "      filter: drop-shadow(0px 1px 2px rgba(0, 0, 0, 0.3));\n",
              "      fill: #FFFFFF;\n",
              "    }\n",
              "  </style>\n",
              "\n",
              "      <script>\n",
              "        const buttonEl =\n",
              "          document.querySelector('#df-358cd825-44e7-479e-8aa6-b186e661faa7 button.colab-df-convert');\n",
              "        buttonEl.style.display =\n",
              "          google.colab.kernel.accessAllowed ? 'block' : 'none';\n",
              "\n",
              "        async function convertToInteractive(key) {\n",
              "          const element = document.querySelector('#df-358cd825-44e7-479e-8aa6-b186e661faa7');\n",
              "          const dataTable =\n",
              "            await google.colab.kernel.invokeFunction('convertToInteractive',\n",
              "                                                     [key], {});\n",
              "          if (!dataTable) return;\n",
              "\n",
              "          const docLinkHtml = 'Like what you see? Visit the ' +\n",
              "            '<a target=\"_blank\" href=https://colab.research.google.com/notebooks/data_table.ipynb>data table notebook</a>'\n",
              "            + ' to learn more about interactive tables.';\n",
              "          element.innerHTML = '';\n",
              "          dataTable['output_type'] = 'display_data';\n",
              "          await google.colab.output.renderOutput(dataTable, element);\n",
              "          const docLink = document.createElement('div');\n",
              "          docLink.innerHTML = docLinkHtml;\n",
              "          element.appendChild(docLink);\n",
              "        }\n",
              "      </script>\n",
              "    </div>\n",
              "  </div>\n",
              "  "
            ]
          },
          "metadata": {},
          "execution_count": 10
        }
      ],
      "source": [
        "# Resposta 3:\n",
        "\n",
        "df = domicilios[['ano_ref','uf','num_moradores',\n",
        "                 'num_moradores_maiores_10anos',\n",
        "                 'tipo_domicilio','num_comodos',\n",
        "                 'num_dormitorios','condicao_domicilio',\n",
        "                 'vlr_aluguel_mensal','prestacao_mensal',\n",
        "                 'renda_mensal_domicilio']]\n",
        "\n",
        "df.head()"
      ]
    },
    {
      "cell_type": "markdown",
      "id": "6c930986",
      "metadata": {
        "id": "6c930986",
        "papermill": {
          "duration": 0.008267,
          "end_time": "2022-06-22T21:54:52.897697",
          "exception": false,
          "start_time": "2022-06-22T21:54:52.889430",
          "status": "completed"
        },
        "tags": []
      },
      "source": [
        "4) Descubra a média e o desvio padrão do número de moradores (num_moradores) por domicílio:"
      ]
    },
    {
      "cell_type": "code",
      "execution_count": 11,
      "id": "914d9451",
      "metadata": {
        "execution": {
          "iopub.execute_input": "2022-06-22T21:54:52.916682Z",
          "iopub.status.busy": "2022-06-22T21:54:52.915702Z",
          "iopub.status.idle": "2022-06-22T21:54:52.919999Z",
          "shell.execute_reply": "2022-06-22T21:54:52.919097Z"
        },
        "id": "914d9451",
        "papermill": {
          "duration": 0.015943,
          "end_time": "2022-06-22T21:54:52.922232",
          "exception": false,
          "start_time": "2022-06-22T21:54:52.906289",
          "status": "completed"
        },
        "tags": [],
        "colab": {
          "base_uri": "https://localhost:8080/"
        },
        "outputId": "d8874365-d4c7-413e-bd21-935c10489610"
      },
      "outputs": [
        {
          "output_type": "execute_result",
          "data": {
            "text/plain": [
              "mean    3.020666\n",
              "std     1.523158\n",
              "Name: num_moradores, dtype: float64"
            ]
          },
          "metadata": {},
          "execution_count": 11
        }
      ],
      "source": [
        "# Resposta 4:\n",
        "\n",
        "df['num_moradores'].agg(['mean','std'])"
      ]
    },
    {
      "cell_type": "markdown",
      "id": "60ab76e1",
      "metadata": {
        "id": "60ab76e1",
        "papermill": {
          "duration": 0.008081,
          "end_time": "2022-06-22T21:54:52.938841",
          "exception": false,
          "start_time": "2022-06-22T21:54:52.930760",
          "status": "completed"
        },
        "tags": []
      },
      "source": [
        "5) Descubra a média do número de moradores (num_moradores) por tipo de domicilio (tipo_domicilio):"
      ]
    },
    {
      "cell_type": "code",
      "execution_count": 12,
      "id": "14d3e0f8",
      "metadata": {
        "execution": {
          "iopub.execute_input": "2022-06-22T21:54:52.956368Z",
          "iopub.status.busy": "2022-06-22T21:54:52.956083Z",
          "iopub.status.idle": "2022-06-22T21:54:52.960180Z",
          "shell.execute_reply": "2022-06-22T21:54:52.959296Z"
        },
        "id": "14d3e0f8",
        "papermill": {
          "duration": 0.015277,
          "end_time": "2022-06-22T21:54:52.962234",
          "exception": false,
          "start_time": "2022-06-22T21:54:52.946957",
          "status": "completed"
        },
        "tags": [],
        "colab": {
          "base_uri": "https://localhost:8080/",
          "height": 175
        },
        "outputId": "0f99242a-c8e0-4087-eca8-28e5eac93b41"
      },
      "outputs": [
        {
          "output_type": "execute_result",
          "data": {
            "text/plain": [
              "                num_moradores\n",
              "tipo_domicilio               \n",
              "Apartamento          2.465632\n",
              "Casa                 3.096092\n",
              "Cômodo               2.409091"
            ],
            "text/html": [
              "\n",
              "  <div id=\"df-91b04ac6-e8ca-4e61-9bdc-2436240a5d5d\">\n",
              "    <div class=\"colab-df-container\">\n",
              "      <div>\n",
              "<style scoped>\n",
              "    .dataframe tbody tr th:only-of-type {\n",
              "        vertical-align: middle;\n",
              "    }\n",
              "\n",
              "    .dataframe tbody tr th {\n",
              "        vertical-align: top;\n",
              "    }\n",
              "\n",
              "    .dataframe thead th {\n",
              "        text-align: right;\n",
              "    }\n",
              "</style>\n",
              "<table border=\"1\" class=\"dataframe\">\n",
              "  <thead>\n",
              "    <tr style=\"text-align: right;\">\n",
              "      <th></th>\n",
              "      <th>num_moradores</th>\n",
              "    </tr>\n",
              "    <tr>\n",
              "      <th>tipo_domicilio</th>\n",
              "      <th></th>\n",
              "    </tr>\n",
              "  </thead>\n",
              "  <tbody>\n",
              "    <tr>\n",
              "      <th>Apartamento</th>\n",
              "      <td>2.465632</td>\n",
              "    </tr>\n",
              "    <tr>\n",
              "      <th>Casa</th>\n",
              "      <td>3.096092</td>\n",
              "    </tr>\n",
              "    <tr>\n",
              "      <th>Cômodo</th>\n",
              "      <td>2.409091</td>\n",
              "    </tr>\n",
              "  </tbody>\n",
              "</table>\n",
              "</div>\n",
              "      <button class=\"colab-df-convert\" onclick=\"convertToInteractive('df-91b04ac6-e8ca-4e61-9bdc-2436240a5d5d')\"\n",
              "              title=\"Convert this dataframe to an interactive table.\"\n",
              "              style=\"display:none;\">\n",
              "        \n",
              "  <svg xmlns=\"http://www.w3.org/2000/svg\" height=\"24px\"viewBox=\"0 0 24 24\"\n",
              "       width=\"24px\">\n",
              "    <path d=\"M0 0h24v24H0V0z\" fill=\"none\"/>\n",
              "    <path d=\"M18.56 5.44l.94 2.06.94-2.06 2.06-.94-2.06-.94-.94-2.06-.94 2.06-2.06.94zm-11 1L8.5 8.5l.94-2.06 2.06-.94-2.06-.94L8.5 2.5l-.94 2.06-2.06.94zm10 10l.94 2.06.94-2.06 2.06-.94-2.06-.94-.94-2.06-.94 2.06-2.06.94z\"/><path d=\"M17.41 7.96l-1.37-1.37c-.4-.4-.92-.59-1.43-.59-.52 0-1.04.2-1.43.59L10.3 9.45l-7.72 7.72c-.78.78-.78 2.05 0 2.83L4 21.41c.39.39.9.59 1.41.59.51 0 1.02-.2 1.41-.59l7.78-7.78 2.81-2.81c.8-.78.8-2.07 0-2.86zM5.41 20L4 18.59l7.72-7.72 1.47 1.35L5.41 20z\"/>\n",
              "  </svg>\n",
              "      </button>\n",
              "      \n",
              "  <style>\n",
              "    .colab-df-container {\n",
              "      display:flex;\n",
              "      flex-wrap:wrap;\n",
              "      gap: 12px;\n",
              "    }\n",
              "\n",
              "    .colab-df-convert {\n",
              "      background-color: #E8F0FE;\n",
              "      border: none;\n",
              "      border-radius: 50%;\n",
              "      cursor: pointer;\n",
              "      display: none;\n",
              "      fill: #1967D2;\n",
              "      height: 32px;\n",
              "      padding: 0 0 0 0;\n",
              "      width: 32px;\n",
              "    }\n",
              "\n",
              "    .colab-df-convert:hover {\n",
              "      background-color: #E2EBFA;\n",
              "      box-shadow: 0px 1px 2px rgba(60, 64, 67, 0.3), 0px 1px 3px 1px rgba(60, 64, 67, 0.15);\n",
              "      fill: #174EA6;\n",
              "    }\n",
              "\n",
              "    [theme=dark] .colab-df-convert {\n",
              "      background-color: #3B4455;\n",
              "      fill: #D2E3FC;\n",
              "    }\n",
              "\n",
              "    [theme=dark] .colab-df-convert:hover {\n",
              "      background-color: #434B5C;\n",
              "      box-shadow: 0px 1px 3px 1px rgba(0, 0, 0, 0.15);\n",
              "      filter: drop-shadow(0px 1px 2px rgba(0, 0, 0, 0.3));\n",
              "      fill: #FFFFFF;\n",
              "    }\n",
              "  </style>\n",
              "\n",
              "      <script>\n",
              "        const buttonEl =\n",
              "          document.querySelector('#df-91b04ac6-e8ca-4e61-9bdc-2436240a5d5d button.colab-df-convert');\n",
              "        buttonEl.style.display =\n",
              "          google.colab.kernel.accessAllowed ? 'block' : 'none';\n",
              "\n",
              "        async function convertToInteractive(key) {\n",
              "          const element = document.querySelector('#df-91b04ac6-e8ca-4e61-9bdc-2436240a5d5d');\n",
              "          const dataTable =\n",
              "            await google.colab.kernel.invokeFunction('convertToInteractive',\n",
              "                                                     [key], {});\n",
              "          if (!dataTable) return;\n",
              "\n",
              "          const docLinkHtml = 'Like what you see? Visit the ' +\n",
              "            '<a target=\"_blank\" href=https://colab.research.google.com/notebooks/data_table.ipynb>data table notebook</a>'\n",
              "            + ' to learn more about interactive tables.';\n",
              "          element.innerHTML = '';\n",
              "          dataTable['output_type'] = 'display_data';\n",
              "          await google.colab.output.renderOutput(dataTable, element);\n",
              "          const docLink = document.createElement('div');\n",
              "          docLink.innerHTML = docLinkHtml;\n",
              "          element.appendChild(docLink);\n",
              "        }\n",
              "      </script>\n",
              "    </div>\n",
              "  </div>\n",
              "  "
            ]
          },
          "metadata": {},
          "execution_count": 12
        }
      ],
      "source": [
        "# Resposta 5:\n",
        "\n",
        "df[['tipo_domicilio','num_moradores']].groupby('tipo_domicilio').agg('mean')"
      ]
    },
    {
      "cell_type": "markdown",
      "id": "d616b25e",
      "metadata": {
        "id": "d616b25e",
        "papermill": {
          "duration": 0.009205,
          "end_time": "2022-06-22T21:54:52.980306",
          "exception": false,
          "start_time": "2022-06-22T21:54:52.971101",
          "status": "completed"
        },
        "tags": []
      },
      "source": [
        "6) Quantos casos existem para cada Condição de ocupação do domicílio (condicao_domicilio)"
      ]
    },
    {
      "cell_type": "code",
      "execution_count": 13,
      "id": "3bf260d8",
      "metadata": {
        "execution": {
          "iopub.execute_input": "2022-06-22T21:54:53.000144Z",
          "iopub.status.busy": "2022-06-22T21:54:52.999807Z",
          "iopub.status.idle": "2022-06-22T21:54:53.003176Z",
          "shell.execute_reply": "2022-06-22T21:54:53.002577Z"
        },
        "id": "3bf260d8",
        "papermill": {
          "duration": 0.015652,
          "end_time": "2022-06-22T21:54:53.005274",
          "exception": false,
          "start_time": "2022-06-22T21:54:52.989622",
          "status": "completed"
        },
        "tags": [],
        "colab": {
          "base_uri": "https://localhost:8080/"
        },
        "outputId": "b93f76e1-7a1a-4547-fe65-9255f6d816f5"
      },
      "outputs": [
        {
          "output_type": "execute_result",
          "data": {
            "text/plain": [
              "condicao_domicilio\n",
              "Alugado                    2078\n",
              "Cedido de outra forma       572\n",
              "Cedido por empregador       214\n",
              "Outra condição               40\n",
              "Próprio – ainda pagando     559\n",
              "Próprio – já pago          8247\n",
              "dtype: int64"
            ]
          },
          "metadata": {},
          "execution_count": 13
        }
      ],
      "source": [
        "# Resposta 6:\n",
        "\n",
        "df.groupby('condicao_domicilio').size()"
      ]
    },
    {
      "cell_type": "markdown",
      "id": "b3a1ca77",
      "metadata": {
        "id": "b3a1ca77",
        "papermill": {
          "duration": 0.008669,
          "end_time": "2022-06-22T21:54:53.022751",
          "exception": false,
          "start_time": "2022-06-22T21:54:53.014082",
          "status": "completed"
        },
        "tags": []
      },
      "source": [
        "7) Qual é a média e o desvio padrão do valor de aluguel mensal (vlr_aluguel_mensal)?\n",
        "\n",
        "(não se esqueça que nem todos moram de aluguel, precisamos filtrar os outros casos desta análise)"
      ]
    },
    {
      "cell_type": "code",
      "execution_count": 14,
      "id": "5ea6beb6",
      "metadata": {
        "execution": {
          "iopub.execute_input": "2022-06-22T21:54:53.041868Z",
          "iopub.status.busy": "2022-06-22T21:54:53.041510Z",
          "iopub.status.idle": "2022-06-22T21:54:53.045573Z",
          "shell.execute_reply": "2022-06-22T21:54:53.044544Z"
        },
        "id": "5ea6beb6",
        "papermill": {
          "duration": 0.015762,
          "end_time": "2022-06-22T21:54:53.047175",
          "exception": false,
          "start_time": "2022-06-22T21:54:53.031413",
          "status": "completed"
        },
        "tags": [],
        "colab": {
          "base_uri": "https://localhost:8080/",
          "height": 143
        },
        "outputId": "ccbfaf4b-2b40-4478-e102-062945caa522"
      },
      "outputs": [
        {
          "output_type": "execute_result",
          "data": {
            "text/plain": [
              "      vlr_aluguel_mensal\n",
              "mean              573.41\n",
              "std               482.94\n",
              "max              5300.00"
            ],
            "text/html": [
              "\n",
              "  <div id=\"df-053e7868-6efb-4d67-b90a-566c3e0af576\">\n",
              "    <div class=\"colab-df-container\">\n",
              "      <div>\n",
              "<style scoped>\n",
              "    .dataframe tbody tr th:only-of-type {\n",
              "        vertical-align: middle;\n",
              "    }\n",
              "\n",
              "    .dataframe tbody tr th {\n",
              "        vertical-align: top;\n",
              "    }\n",
              "\n",
              "    .dataframe thead th {\n",
              "        text-align: right;\n",
              "    }\n",
              "</style>\n",
              "<table border=\"1\" class=\"dataframe\">\n",
              "  <thead>\n",
              "    <tr style=\"text-align: right;\">\n",
              "      <th></th>\n",
              "      <th>vlr_aluguel_mensal</th>\n",
              "    </tr>\n",
              "  </thead>\n",
              "  <tbody>\n",
              "    <tr>\n",
              "      <th>mean</th>\n",
              "      <td>573.41</td>\n",
              "    </tr>\n",
              "    <tr>\n",
              "      <th>std</th>\n",
              "      <td>482.94</td>\n",
              "    </tr>\n",
              "    <tr>\n",
              "      <th>max</th>\n",
              "      <td>5300.00</td>\n",
              "    </tr>\n",
              "  </tbody>\n",
              "</table>\n",
              "</div>\n",
              "      <button class=\"colab-df-convert\" onclick=\"convertToInteractive('df-053e7868-6efb-4d67-b90a-566c3e0af576')\"\n",
              "              title=\"Convert this dataframe to an interactive table.\"\n",
              "              style=\"display:none;\">\n",
              "        \n",
              "  <svg xmlns=\"http://www.w3.org/2000/svg\" height=\"24px\"viewBox=\"0 0 24 24\"\n",
              "       width=\"24px\">\n",
              "    <path d=\"M0 0h24v24H0V0z\" fill=\"none\"/>\n",
              "    <path d=\"M18.56 5.44l.94 2.06.94-2.06 2.06-.94-2.06-.94-.94-2.06-.94 2.06-2.06.94zm-11 1L8.5 8.5l.94-2.06 2.06-.94-2.06-.94L8.5 2.5l-.94 2.06-2.06.94zm10 10l.94 2.06.94-2.06 2.06-.94-2.06-.94-.94-2.06-.94 2.06-2.06.94z\"/><path d=\"M17.41 7.96l-1.37-1.37c-.4-.4-.92-.59-1.43-.59-.52 0-1.04.2-1.43.59L10.3 9.45l-7.72 7.72c-.78.78-.78 2.05 0 2.83L4 21.41c.39.39.9.59 1.41.59.51 0 1.02-.2 1.41-.59l7.78-7.78 2.81-2.81c.8-.78.8-2.07 0-2.86zM5.41 20L4 18.59l7.72-7.72 1.47 1.35L5.41 20z\"/>\n",
              "  </svg>\n",
              "      </button>\n",
              "      \n",
              "  <style>\n",
              "    .colab-df-container {\n",
              "      display:flex;\n",
              "      flex-wrap:wrap;\n",
              "      gap: 12px;\n",
              "    }\n",
              "\n",
              "    .colab-df-convert {\n",
              "      background-color: #E8F0FE;\n",
              "      border: none;\n",
              "      border-radius: 50%;\n",
              "      cursor: pointer;\n",
              "      display: none;\n",
              "      fill: #1967D2;\n",
              "      height: 32px;\n",
              "      padding: 0 0 0 0;\n",
              "      width: 32px;\n",
              "    }\n",
              "\n",
              "    .colab-df-convert:hover {\n",
              "      background-color: #E2EBFA;\n",
              "      box-shadow: 0px 1px 2px rgba(60, 64, 67, 0.3), 0px 1px 3px 1px rgba(60, 64, 67, 0.15);\n",
              "      fill: #174EA6;\n",
              "    }\n",
              "\n",
              "    [theme=dark] .colab-df-convert {\n",
              "      background-color: #3B4455;\n",
              "      fill: #D2E3FC;\n",
              "    }\n",
              "\n",
              "    [theme=dark] .colab-df-convert:hover {\n",
              "      background-color: #434B5C;\n",
              "      box-shadow: 0px 1px 3px 1px rgba(0, 0, 0, 0.15);\n",
              "      filter: drop-shadow(0px 1px 2px rgba(0, 0, 0, 0.3));\n",
              "      fill: #FFFFFF;\n",
              "    }\n",
              "  </style>\n",
              "\n",
              "      <script>\n",
              "        const buttonEl =\n",
              "          document.querySelector('#df-053e7868-6efb-4d67-b90a-566c3e0af576 button.colab-df-convert');\n",
              "        buttonEl.style.display =\n",
              "          google.colab.kernel.accessAllowed ? 'block' : 'none';\n",
              "\n",
              "        async function convertToInteractive(key) {\n",
              "          const element = document.querySelector('#df-053e7868-6efb-4d67-b90a-566c3e0af576');\n",
              "          const dataTable =\n",
              "            await google.colab.kernel.invokeFunction('convertToInteractive',\n",
              "                                                     [key], {});\n",
              "          if (!dataTable) return;\n",
              "\n",
              "          const docLinkHtml = 'Like what you see? Visit the ' +\n",
              "            '<a target=\"_blank\" href=https://colab.research.google.com/notebooks/data_table.ipynb>data table notebook</a>'\n",
              "            + ' to learn more about interactive tables.';\n",
              "          element.innerHTML = '';\n",
              "          dataTable['output_type'] = 'display_data';\n",
              "          await google.colab.output.renderOutput(dataTable, element);\n",
              "          const docLink = document.createElement('div');\n",
              "          docLink.innerHTML = docLinkHtml;\n",
              "          element.appendChild(docLink);\n",
              "        }\n",
              "      </script>\n",
              "    </div>\n",
              "  </div>\n",
              "  "
            ]
          },
          "metadata": {},
          "execution_count": 14
        }
      ],
      "source": [
        "# Resposta 7:\n",
        "\n",
        "df[df['condicao_domicilio']=='Alugado'][['vlr_aluguel_mensal']].agg(['mean','std','max']).round(2)"
      ]
    },
    {
      "cell_type": "markdown",
      "id": "5016229e",
      "metadata": {
        "id": "5016229e",
        "papermill": {
          "duration": 0.005303,
          "end_time": "2022-06-22T21:54:53.058125",
          "exception": false,
          "start_time": "2022-06-22T21:54:53.052822",
          "status": "completed"
        },
        "tags": []
      },
      "source": [
        "8) Qual é a média e o desvio padrão do valor da prestação mensal (prestacao_mensal)?\n",
        "\n",
        "(não se esqueça que nem todos moram em domicílio próprio e ainda estão pagando prestações, precisamos filtrar os outros casos desta análise)"
      ]
    },
    {
      "cell_type": "code",
      "execution_count": 16,
      "id": "d20c5ecf",
      "metadata": {
        "execution": {
          "iopub.execute_input": "2022-06-22T21:54:53.070925Z",
          "iopub.status.busy": "2022-06-22T21:54:53.070436Z",
          "iopub.status.idle": "2022-06-22T21:54:53.073609Z",
          "shell.execute_reply": "2022-06-22T21:54:53.073082Z"
        },
        "id": "d20c5ecf",
        "papermill": {
          "duration": 0.011767,
          "end_time": "2022-06-22T21:54:53.075365",
          "exception": false,
          "start_time": "2022-06-22T21:54:53.063598",
          "status": "completed"
        },
        "tags": [],
        "colab": {
          "base_uri": "https://localhost:8080/",
          "height": 112
        },
        "outputId": "83029876-c695-4515-a754-b231e34a9656"
      },
      "outputs": [
        {
          "output_type": "execute_result",
          "data": {
            "text/plain": [
              "      prestacao_mensal\n",
              "mean            710.53\n",
              "std             868.03"
            ],
            "text/html": [
              "\n",
              "  <div id=\"df-46e56247-39d0-46e0-89b3-7c3262c1932a\">\n",
              "    <div class=\"colab-df-container\">\n",
              "      <div>\n",
              "<style scoped>\n",
              "    .dataframe tbody tr th:only-of-type {\n",
              "        vertical-align: middle;\n",
              "    }\n",
              "\n",
              "    .dataframe tbody tr th {\n",
              "        vertical-align: top;\n",
              "    }\n",
              "\n",
              "    .dataframe thead th {\n",
              "        text-align: right;\n",
              "    }\n",
              "</style>\n",
              "<table border=\"1\" class=\"dataframe\">\n",
              "  <thead>\n",
              "    <tr style=\"text-align: right;\">\n",
              "      <th></th>\n",
              "      <th>prestacao_mensal</th>\n",
              "    </tr>\n",
              "  </thead>\n",
              "  <tbody>\n",
              "    <tr>\n",
              "      <th>mean</th>\n",
              "      <td>710.53</td>\n",
              "    </tr>\n",
              "    <tr>\n",
              "      <th>std</th>\n",
              "      <td>868.03</td>\n",
              "    </tr>\n",
              "  </tbody>\n",
              "</table>\n",
              "</div>\n",
              "      <button class=\"colab-df-convert\" onclick=\"convertToInteractive('df-46e56247-39d0-46e0-89b3-7c3262c1932a')\"\n",
              "              title=\"Convert this dataframe to an interactive table.\"\n",
              "              style=\"display:none;\">\n",
              "        \n",
              "  <svg xmlns=\"http://www.w3.org/2000/svg\" height=\"24px\"viewBox=\"0 0 24 24\"\n",
              "       width=\"24px\">\n",
              "    <path d=\"M0 0h24v24H0V0z\" fill=\"none\"/>\n",
              "    <path d=\"M18.56 5.44l.94 2.06.94-2.06 2.06-.94-2.06-.94-.94-2.06-.94 2.06-2.06.94zm-11 1L8.5 8.5l.94-2.06 2.06-.94-2.06-.94L8.5 2.5l-.94 2.06-2.06.94zm10 10l.94 2.06.94-2.06 2.06-.94-2.06-.94-.94-2.06-.94 2.06-2.06.94z\"/><path d=\"M17.41 7.96l-1.37-1.37c-.4-.4-.92-.59-1.43-.59-.52 0-1.04.2-1.43.59L10.3 9.45l-7.72 7.72c-.78.78-.78 2.05 0 2.83L4 21.41c.39.39.9.59 1.41.59.51 0 1.02-.2 1.41-.59l7.78-7.78 2.81-2.81c.8-.78.8-2.07 0-2.86zM5.41 20L4 18.59l7.72-7.72 1.47 1.35L5.41 20z\"/>\n",
              "  </svg>\n",
              "      </button>\n",
              "      \n",
              "  <style>\n",
              "    .colab-df-container {\n",
              "      display:flex;\n",
              "      flex-wrap:wrap;\n",
              "      gap: 12px;\n",
              "    }\n",
              "\n",
              "    .colab-df-convert {\n",
              "      background-color: #E8F0FE;\n",
              "      border: none;\n",
              "      border-radius: 50%;\n",
              "      cursor: pointer;\n",
              "      display: none;\n",
              "      fill: #1967D2;\n",
              "      height: 32px;\n",
              "      padding: 0 0 0 0;\n",
              "      width: 32px;\n",
              "    }\n",
              "\n",
              "    .colab-df-convert:hover {\n",
              "      background-color: #E2EBFA;\n",
              "      box-shadow: 0px 1px 2px rgba(60, 64, 67, 0.3), 0px 1px 3px 1px rgba(60, 64, 67, 0.15);\n",
              "      fill: #174EA6;\n",
              "    }\n",
              "\n",
              "    [theme=dark] .colab-df-convert {\n",
              "      background-color: #3B4455;\n",
              "      fill: #D2E3FC;\n",
              "    }\n",
              "\n",
              "    [theme=dark] .colab-df-convert:hover {\n",
              "      background-color: #434B5C;\n",
              "      box-shadow: 0px 1px 3px 1px rgba(0, 0, 0, 0.15);\n",
              "      filter: drop-shadow(0px 1px 2px rgba(0, 0, 0, 0.3));\n",
              "      fill: #FFFFFF;\n",
              "    }\n",
              "  </style>\n",
              "\n",
              "      <script>\n",
              "        const buttonEl =\n",
              "          document.querySelector('#df-46e56247-39d0-46e0-89b3-7c3262c1932a button.colab-df-convert');\n",
              "        buttonEl.style.display =\n",
              "          google.colab.kernel.accessAllowed ? 'block' : 'none';\n",
              "\n",
              "        async function convertToInteractive(key) {\n",
              "          const element = document.querySelector('#df-46e56247-39d0-46e0-89b3-7c3262c1932a');\n",
              "          const dataTable =\n",
              "            await google.colab.kernel.invokeFunction('convertToInteractive',\n",
              "                                                     [key], {});\n",
              "          if (!dataTable) return;\n",
              "\n",
              "          const docLinkHtml = 'Like what you see? Visit the ' +\n",
              "            '<a target=\"_blank\" href=https://colab.research.google.com/notebooks/data_table.ipynb>data table notebook</a>'\n",
              "            + ' to learn more about interactive tables.';\n",
              "          element.innerHTML = '';\n",
              "          dataTable['output_type'] = 'display_data';\n",
              "          await google.colab.output.renderOutput(dataTable, element);\n",
              "          const docLink = document.createElement('div');\n",
              "          docLink.innerHTML = docLinkHtml;\n",
              "          element.appendChild(docLink);\n",
              "        }\n",
              "      </script>\n",
              "    </div>\n",
              "  </div>\n",
              "  "
            ]
          },
          "metadata": {},
          "execution_count": 16
        }
      ],
      "source": [
        "# Resposta 8:\n",
        "\n",
        "df[df['condicao_domicilio']=='Próprio – ainda pagando'][['prestacao_mensal']].agg(['mean','std']).round(2)"
      ]
    },
    {
      "cell_type": "markdown",
      "id": "90baa235",
      "metadata": {
        "id": "90baa235",
        "papermill": {
          "duration": 0.005193,
          "end_time": "2022-06-22T21:54:53.086178",
          "exception": false,
          "start_time": "2022-06-22T21:54:53.080985",
          "status": "completed"
        },
        "tags": []
      },
      "source": [
        "9) Qual é a média de renda mensal por domicílio?"
      ]
    },
    {
      "cell_type": "code",
      "execution_count": 15,
      "id": "1bc9f97c",
      "metadata": {
        "execution": {
          "iopub.execute_input": "2022-06-22T21:54:53.098329Z",
          "iopub.status.busy": "2022-06-22T21:54:53.097811Z",
          "iopub.status.idle": "2022-06-22T21:54:53.100913Z",
          "shell.execute_reply": "2022-06-22T21:54:53.100279Z"
        },
        "id": "1bc9f97c",
        "papermill": {
          "duration": 0.01092,
          "end_time": "2022-06-22T21:54:53.102287",
          "exception": false,
          "start_time": "2022-06-22T21:54:53.091367",
          "status": "completed"
        },
        "tags": [],
        "colab": {
          "base_uri": "https://localhost:8080/"
        },
        "outputId": "d7a30208-eefd-4ef9-f10d-3ec4d1629b6b"
      },
      "outputs": [
        {
          "output_type": "execute_result",
          "data": {
            "text/plain": [
              "3075.36"
            ]
          },
          "metadata": {},
          "execution_count": 15
        }
      ],
      "source": [
        "# Resposta 9:\n",
        "\n",
        "df['renda_mensal_domicilio'].mean().round(2)"
      ]
    },
    {
      "cell_type": "markdown",
      "id": "f7c1bcc6",
      "metadata": {
        "id": "f7c1bcc6",
        "papermill": {
          "duration": 0.005247,
          "end_time": "2022-06-22T21:54:53.113056",
          "exception": false,
          "start_time": "2022-06-22T21:54:53.107809",
          "status": "completed"
        },
        "tags": []
      },
      "source": [
        "10) Qual é a média de renda mensal por morador com mais de 10 anos?"
      ]
    },
    {
      "cell_type": "code",
      "execution_count": 17,
      "id": "1869bbbe",
      "metadata": {
        "execution": {
          "iopub.execute_input": "2022-06-22T21:54:53.125012Z",
          "iopub.status.busy": "2022-06-22T21:54:53.124607Z",
          "iopub.status.idle": "2022-06-22T21:54:53.127538Z",
          "shell.execute_reply": "2022-06-22T21:54:53.127004Z"
        },
        "id": "1869bbbe",
        "papermill": {
          "duration": 0.01119,
          "end_time": "2022-06-22T21:54:53.129469",
          "exception": false,
          "start_time": "2022-06-22T21:54:53.118279",
          "status": "completed"
        },
        "tags": [],
        "colab": {
          "base_uri": "https://localhost:8080/"
        },
        "outputId": "ea60d5a1-50f3-4c0d-e861-48d644dfcfbf"
      },
      "outputs": [
        {
          "output_type": "stream",
          "name": "stdout",
          "text": [
            "36012408\n",
            "30564\n"
          ]
        },
        {
          "output_type": "execute_result",
          "data": {
            "text/plain": [
              "1178.26"
            ]
          },
          "metadata": {},
          "execution_count": 17
        }
      ],
      "source": [
        "# Resposta 10:\n",
        "\n",
        "print(df['renda_mensal_domicilio'].sum())\n",
        "print(df['num_moradores_maiores_10anos'].sum())\n",
        "\n",
        "(df['renda_mensal_domicilio'].sum()/df['num_moradores_maiores_10anos'].sum()).round(2)"
      ]
    },
    {
      "cell_type": "markdown",
      "id": "41331267",
      "metadata": {
        "id": "41331267",
        "papermill": {
          "duration": 0.005221,
          "end_time": "2022-06-22T21:54:53.140475",
          "exception": false,
          "start_time": "2022-06-22T21:54:53.135254",
          "status": "completed"
        },
        "tags": []
      },
      "source": [
        "11) Plot um histograma com a quantidade de domicilios desta base por UF."
      ]
    },
    {
      "cell_type": "code",
      "execution_count": 18,
      "id": "0e0dd563",
      "metadata": {
        "execution": {
          "iopub.execute_input": "2022-06-22T21:54:53.152638Z",
          "iopub.status.busy": "2022-06-22T21:54:53.152143Z",
          "iopub.status.idle": "2022-06-22T21:54:53.155110Z",
          "shell.execute_reply": "2022-06-22T21:54:53.154616Z"
        },
        "id": "0e0dd563",
        "papermill": {
          "duration": 0.010703,
          "end_time": "2022-06-22T21:54:53.156477",
          "exception": false,
          "start_time": "2022-06-22T21:54:53.145774",
          "status": "completed"
        },
        "tags": [],
        "colab": {
          "base_uri": "https://localhost:8080/",
          "height": 496
        },
        "outputId": "93118fec-ffdc-4225-c10d-952b149aea13"
      },
      "outputs": [
        {
          "output_type": "display_data",
          "data": {
            "text/plain": [
              "<Figure size 720x432 with 1 Axes>"
            ],
            "image/png": "[encoded data removed]"
          },
          "metadata": {
            "needs_background": "light"
          }
        }
      ],
      "source": [
        "# Resposta 11:\n",
        "\n",
        "plt.figure(figsize=(10,6))\n",
        "plt.hist(df['uf'],bins=range(0,28,1))\n",
        "plt.title('Distribuição x UF')\n",
        "plt.xlabel('UF')\n",
        "plt.ylabel('Quantidade de Domicilios')\n",
        "plt.xticks(rotation=90)\n",
        "plt.show()"
      ]
    },
    {
      "cell_type": "markdown",
      "id": "e67a5392",
      "metadata": {
        "id": "e67a5392",
        "papermill": {
          "duration": 0.005379,
          "end_time": "2022-06-22T21:54:53.167414",
          "exception": false,
          "start_time": "2022-06-22T21:54:53.162035",
          "status": "completed"
        },
        "tags": []
      },
      "source": [
        "12) Plot um gráfico de barras com a soma total de moradores desta base por UF."
      ]
    },
    {
      "cell_type": "code",
      "execution_count": 19,
      "id": "484905e9",
      "metadata": {
        "execution": {
          "iopub.execute_input": "2022-06-22T21:54:53.179843Z",
          "iopub.status.busy": "2022-06-22T21:54:53.179370Z",
          "iopub.status.idle": "2022-06-22T21:54:53.182792Z",
          "shell.execute_reply": "2022-06-22T21:54:53.181667Z"
        },
        "id": "484905e9",
        "papermill": {
          "duration": 0.011328,
          "end_time": "2022-06-22T21:54:53.184227",
          "exception": false,
          "start_time": "2022-06-22T21:54:53.172899",
          "status": "completed"
        },
        "tags": [],
        "colab": {
          "base_uri": "https://localhost:8080/",
          "height": 496
        },
        "outputId": "fcf579ea-68ed-4d37-c065-53001b058899"
      },
      "outputs": [
        {
          "output_type": "display_data",
          "data": {
            "text/plain": [
              "<Figure size 720x432 with 1 Axes>"
            ],
            "image/png": "[encoded data removed]"
          },
          "metadata": {
            "needs_background": "light"
          }
        }
      ],
      "source": [
        "# Resposta 12:\n",
        "\n",
        "df_2 = df[['uf','num_moradores']].groupby('uf').agg('sum').sort_values('num_moradores', ascending=False)\n",
        "df_2.reset_index(inplace=True)\n",
        "\n",
        "plt.figure(figsize=(10,6))\n",
        "plt.bar(df_2['uf'],df_2['num_moradores'], color='green')\n",
        "plt.title('Numero Total de Moradores x UF')\n",
        "plt.xlabel('UF')\n",
        "plt.ylabel('Numero Total de Moradores')\n",
        "plt.xticks(rotation=90)\n",
        "plt.show()"
      ]
    },
    {
      "cell_type": "markdown",
      "id": "284880df",
      "metadata": {
        "id": "284880df",
        "papermill": {
          "duration": 0.005243,
          "end_time": "2022-06-22T21:54:53.195255",
          "exception": false,
          "start_time": "2022-06-22T21:54:53.190012",
          "status": "completed"
        },
        "tags": []
      },
      "source": [
        "13) Plot um gráfico de dispersão com o número total de moradores (num_moradores) e o número total de dormitorios (num_dormitorios)."
      ]
    },
    {
      "cell_type": "code",
      "execution_count": 20,
      "id": "ee195e31",
      "metadata": {
        "execution": {
          "iopub.execute_input": "2022-06-22T21:54:53.207376Z",
          "iopub.status.busy": "2022-06-22T21:54:53.206906Z",
          "iopub.status.idle": "2022-06-22T21:54:53.209908Z",
          "shell.execute_reply": "2022-06-22T21:54:53.209291Z"
        },
        "id": "ee195e31",
        "papermill": {
          "duration": 0.010776,
          "end_time": "2022-06-22T21:54:53.211341",
          "exception": false,
          "start_time": "2022-06-22T21:54:53.200565",
          "status": "completed"
        },
        "tags": [],
        "colab": {
          "base_uri": "https://localhost:8080/",
          "height": 404
        },
        "outputId": "911cf32a-5ac0-40f1-ad7e-57100fda87b3"
      },
      "outputs": [
        {
          "output_type": "display_data",
          "data": {
            "text/plain": [
              "<Figure size 720x432 with 1 Axes>"
            ],
            "image/png": "[encoded data removed]"
          },
          "metadata": {
            "needs_background": "light"
          }
        }
      ],
      "source": [
        "# Resposta 13:\n",
        "\n",
        "plt.figure(figsize=(10,6))\n",
        "plt.scatter(df['num_dormitorios'],df['num_moradores'], color='orange', s=100)\n",
        "plt.title('Numero de Moradores x Numero de Dormitorios')\n",
        "plt.xlabel('Numero de Dormitorios')\n",
        "plt.ylabel('Numero de Moradores')\n",
        "plt.xticks(range(0,8,1))\n",
        "plt.yticks(range(0,17,1))\n",
        "plt.show()"
      ]
    }
  ],
  "metadata": {
    "kernelspec": {
      "display_name": "Python 3",
      "language": "python",
      "name": "python3"
    },
    "language_info": {
      "codemirror_mode": {
        "name": "ipython",
        "version": 3
      },
      "file_extension": ".py",
      "mimetype": "text/x-python",
      "name": "python",
      "nbconvert_exporter": "python",
      "pygments_lexer": "ipython3",
      "version": "3.7.12"
    },
    "papermill": {
      "default_parameters": {},
      "duration": 11.524177,
      "end_time": "2022-06-22T21:54:53.835566",
      "environment_variables": {},
      "exception": null,
      "input_path": "__notebook__.ipynb",
      "output_path": "__notebook__.ipynb",
      "parameters": {},
      "start_time": "2022-06-22T21:54:42.311389",
      "version": "2.3.4"
    },
    "colab": {
      "name": "desafio-ebac-dados.ipynb",
      "provenance": [],
      "collapsed_sections": [],
      "include_colab_link": true
    }
  },
  "nbformat": 4,
  "nbformat_minor": 5
}